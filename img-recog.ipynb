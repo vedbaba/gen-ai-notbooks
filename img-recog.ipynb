{
 "cells": [
  {
   "cell_type": "code",
   "execution_count": null,
   "id": "24af1318",
   "metadata": {},
   "outputs": [
    {
     "ename": "KeyboardInterrupt",
     "evalue": "",
     "output_type": "error",
     "traceback": [
      "\u001b[31m---------------------------------------------------------------------------\u001b[39m",
      "\u001b[31mKeyboardInterrupt\u001b[39m                         Traceback (most recent call last)",
      "\u001b[36mCell\u001b[39m\u001b[36m \u001b[39m\u001b[32mIn[4]\u001b[39m\u001b[32m, line 33\u001b[39m\n\u001b[32m     30\u001b[39m gray_frame = cv2.cvtColor(frame, cv2.COLOR_BGR2GRAY)\n\u001b[32m     32\u001b[39m \u001b[38;5;66;03m# Template Matching\u001b[39;00m\n\u001b[32m---> \u001b[39m\u001b[32m33\u001b[39m result = \u001b[43mcv2\u001b[49m\u001b[43m.\u001b[49m\u001b[43mmatchTemplate\u001b[49m\u001b[43m(\u001b[49m\u001b[43mgray_frame\u001b[49m\u001b[43m,\u001b[49m\u001b[43m \u001b[49m\u001b[43mtemplate\u001b[49m\u001b[43m,\u001b[49m\u001b[43m \u001b[49m\u001b[43mcv2\u001b[49m\u001b[43m.\u001b[49m\u001b[43mTM_CCOEFF_NORMED\u001b[49m\u001b[43m)\u001b[49m\n\u001b[32m     34\u001b[39m loc = np.where(result >= threshold)\n\u001b[32m     36\u001b[39m \u001b[38;5;66;03m# Draw Matches\u001b[39;00m\n",
      "\u001b[31mKeyboardInterrupt\u001b[39m: "
     ]
    },
    {
     "ename": "",
     "evalue": "",
     "output_type": "error",
     "traceback": [
      "\u001b[1;31mThe Kernel crashed while executing code in the current cell or a previous cell. \n",
      "\u001b[1;31mPlease review the code in the cell(s) to identify a possible cause of the failure. \n",
      "\u001b[1;31mClick <a href='https://aka.ms/vscodeJupyterKernelCrash'>here</a> for more info. \n",
      "\u001b[1;31mView Jupyter <a href='command:jupyter.viewOutput'>log</a> for further details."
     ]
    }
   ],
   "source": [
    "import cv2\n",
    "import numpy as np\n",
    "\n",
    "# === Configuration ===\n",
    "video_path = r'C:\\Users\\veyadav\\Downloads\\Drupal-Branching.mp4'            # Path to your video file\n",
    "template_path = r'C:\\Users\\veyadav\\Downloads\\poorna.jpg'      # Template image of mobile in hand\n",
    "screen_width, screen_height = 1280, 720   # Target display resolution\n",
    "threshold = 0.8                           # Matching confidence\n",
    "\n",
    "# === Load Template ===\n",
    "template = cv2.imread(template_path, 0)\n",
    "if template is None:\n",
    "    raise IOError(\"Template image not found.\")\n",
    "w, h = template.shape[::-1]\n",
    "\n",
    "# === Open Video ===\n",
    "cap = cv2.VideoCapture(video_path)\n",
    "if not cap.isOpened():\n",
    "    raise IOError(\"Video file could not be opened.\")\n",
    "\n",
    "cv2.namedWindow('Mobile Detection', cv2.WINDOW_NORMAL)\n",
    "cv2.setWindowProperty('Mobile Detection', cv2.WND_PROP_FULLSCREEN, cv2.WINDOW_FULLSCREEN)\n",
    "\n",
    "while cap.isOpened():\n",
    "    ret, frame = cap.read()\n",
    "    if not ret:\n",
    "        break\n",
    "\n",
    "    # Convert to grayscale\n",
    "    gray_frame = cv2.cvtColor(frame, cv2.COLOR_BGR2GRAY)\n",
    "\n",
    "    # Template Matching\n",
    "    result = cv2.matchTemplate(gray_frame, template, cv2.TM_CCOEFF_NORMED)\n",
    "    loc = np.where(result >= threshold)\n",
    "\n",
    "    # Draw Matches\n",
    "    for pt in zip(*loc[::-1]):\n",
    "        cv2.rectangle(frame, pt, (pt[0] + w, pt[1] + h), (0, 255, 0), 2)\n",
    "\n",
    "    # Resize frame to fit screen\n",
    "    fh, fw = frame.shape[:2]\n",
    "    scale = min(screen_width / fw, screen_height / fh)\n",
    "    new_w, new_h = int(fw * scale), int(fh * scale)\n",
    "    resized_frame = cv2.resize(frame, (new_w, new_h))\n",
    "\n",
    "    # Center the frame on black canvas\n",
    "    canvas = cv2.copyMakeBorder(\n",
    "        resized_frame,\n",
    "        top=(screen_height - new_h) // 2,\n",
    "        bottom=(screen_height - new_h + 1) // 2,\n",
    "        left=(screen_width - new_w) // 2,\n",
    "        right=(screen_width - new_w + 1) // 2,\n",
    "        borderType=cv2.BORDER_CONSTANT,\n",
    "        value=[0, 0, 0]\n",
    "    )\n",
    "\n",
    "    # Display\n",
    "    cv2.imshow('Mobile Detection', canvas)\n",
    "    if cv2.waitKey(1) & 0xFF == ord('q'):\n",
    "        break\n",
    "\n",
    "# === Cleanup ===\n",
    "cap.release()\n",
    "cv2.destroyAllWindows()"
   ]
  },
  {
   "cell_type": "code",
   "execution_count": null,
   "id": "26574f88",
   "metadata": {},
   "outputs": [],
   "source": []
  }
 ],
 "metadata": {
  "kernelspec": {
   "display_name": "Python 3",
   "language": "python",
   "name": "python3"
  },
  "language_info": {
   "codemirror_mode": {
    "name": "ipython",
    "version": 3
   },
   "file_extension": ".py",
   "mimetype": "text/x-python",
   "name": "python",
   "nbconvert_exporter": "python",
   "pygments_lexer": "ipython3",
   "version": "3.12.4"
  }
 },
 "nbformat": 4,
 "nbformat_minor": 5
}
