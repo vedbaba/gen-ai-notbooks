{
 "cells": [
  {
   "cell_type": "code",
   "execution_count": null,
   "id": "41d2c047",
   "metadata": {},
   "outputs": [],
   "source": [
    "import getpass\n",
    "import os\n",
    "if not os.environ.get(\"GOOGLE_API_KEY\"):\n",
    "  os.environ[\"GOOGLE_API_KEY\"] = \"**\"\n",
    "from langchain.chat_models import init_chat_model\n",
    "model = init_chat_model(\"gemini-2.0-flash\", model_provider=\"google_genai\")\n"
   ]
  },
  {
   "cell_type": "code",
   "execution_count": null,
   "id": "6824e35e",
   "metadata": {},
   "outputs": [
    {
     "data": {
      "text/plain": [
       "'Mumbai\\'s temperature varies significantly depending on the time of year:\\n\\n*   **Winter (November to February):** The average temperature ranges from 22°C to 30°C (72°F to 86°F). It can sometimes dip to around 15°C (59°F) on cooler nights.\\n*   **Summer (March to May):** This is the hottest period, with average temperatures between 30°C to 35°C (86°F to 95°F). However, temperatures can often exceed 40°C (104°F).\\n*   **Monsoon (June to September):** The temperature during the monsoon season is usually between 27°C to 32°C (81°F to 90°F). The humidity is very high, making it feel hotter than the actual temperature.\\n*   **Post-Monsoon (October):** The temperature starts to decrease, with average temperatures ranging from 30°C to 35°C (86°F to 95°F). The humidity is still relatively high.\\n\\nSo, to summarize, there isn\\'t one \"normal\" temperature for Mumbai. It depends on the season.'"
      ]
     },
     "execution_count": 18,
     "metadata": {},
     "output_type": "execute_result"
    }
   ],
   "source": [
    "#model.invoke(\"Hello, world!\")\n",
    "query = \"What is normal temprature in mumbai ?\"\n",
    "response = model.invoke([{\"role\": \"user\", \"content\": query}])\n",
    "response.text()"
   ]
  }
 ],
 "metadata": {
  "kernelspec": {
   "display_name": "Python 3",
   "language": "python",
   "name": "python3"
  },
  "language_info": {
   "codemirror_mode": {
    "name": "ipython",
    "version": 3
   },
   "file_extension": ".py",
   "mimetype": "text/x-python",
   "name": "python",
   "nbconvert_exporter": "python",
   "pygments_lexer": "ipython3",
   "version": "3.12.4"
  }
 },
 "nbformat": 4,
 "nbformat_minor": 5
}
